{
 "cells": [
  {
   "cell_type": "code",
   "execution_count": 1,
   "id": "46011ab1",
   "metadata": {},
   "outputs": [],
   "source": [
    "import os             \n",
    "import pandas as pd\n",
    "import numpy as np\n",
    "import sklearn\n",
    "from sklearn import preprocessing, linear_model, model_selection\n",
    "from sklearn.preprocessing import StandardScaler, MinMaxScaler\n",
    "from sklearn.linear_model import LogisticRegression\n",
    "from sklearn.model_selection import train_test_split\n",
    "from sklearn.metrics import r2_score\n",
    "import matplotlib.pyplot as plt\n",
    "import seaborn as sns\n",
    "import matplotlib as mpl\n",
    "from sklearn import metrics\n",
    "from sklearn.neighbors import KNeighborsClassifier\n",
    "from sklearn.model_selection import cross_val_score\n",
    "from sklearn.model_selection import GridSearchCV\n",
    "from sklearn.metrics import make_scorer"
   ]
  },
  {
   "cell_type": "code",
   "execution_count": 2,
   "id": "62e28894",
   "metadata": {},
   "outputs": [],
   "source": [
    "#importing pds\n",
    "igdb_new=pd.read_pickle('igdb_new_cleaned.pkl')\n",
    "igdb_old= pd.read_pickle('igdb_old_cleaned.pkl')"
   ]
  },
  {
   "cell_type": "code",
   "execution_count": 3,
   "id": "7423c6c6",
   "metadata": {},
   "outputs": [],
   "source": [
    "igdb_old['followsxvideos'] = igdb_old['follows']*igdb_old['videos']\n",
    "igdb_old['platformxis_multiplatform'] = igdb_old['is_multiplatform']*igdb_old['platform']\n",
    "#creating new categories, which will serve us later\n",
    "igdb_new['followsxvideos'] = igdb_new['follows']*igdb_new['videos']\n",
    "igdb_new['platformxis_multiplatform'] = igdb_new['is_multiplatform']*igdb_new['platform']"
   ]
  },
  {
   "cell_type": "code",
   "execution_count": 4,
   "id": "272e2a23",
   "metadata": {},
   "outputs": [
    {
     "name": "stdout",
     "output_type": "stream",
     "text": [
      "i:  1\n"
     ]
    },
    {
     "name": "stderr",
     "output_type": "stream",
     "text": [
      "C:\\Users\\tal\\anaconda3\\lib\\site-packages\\sklearn\\linear_model\\_logistic.py:763: ConvergenceWarning: lbfgs failed to converge (status=1):\n",
      "STOP: TOTAL NO. of ITERATIONS REACHED LIMIT.\n",
      "\n",
      "Increase the number of iterations (max_iter) or scale the data as shown in:\n",
      "    https://scikit-learn.org/stable/modules/preprocessing.html\n",
      "Please also refer to the documentation for alternative solver options:\n",
      "    https://scikit-learn.org/stable/modules/linear_model.html#logistic-regression\n",
      "  n_iter_i = _check_optimize_result(\n"
     ]
    },
    {
     "name": "stdout",
     "output_type": "stream",
     "text": [
      "r2 score: 0.05768414068242189\n",
      "percent of correct lines:  0.7263681592039801\n",
      "\n",
      "i:  2\n"
     ]
    },
    {
     "name": "stderr",
     "output_type": "stream",
     "text": [
      "C:\\Users\\tal\\anaconda3\\lib\\site-packages\\sklearn\\linear_model\\_logistic.py:763: ConvergenceWarning: lbfgs failed to converge (status=1):\n",
      "STOP: TOTAL NO. of ITERATIONS REACHED LIMIT.\n",
      "\n",
      "Increase the number of iterations (max_iter) or scale the data as shown in:\n",
      "    https://scikit-learn.org/stable/modules/preprocessing.html\n",
      "Please also refer to the documentation for alternative solver options:\n",
      "    https://scikit-learn.org/stable/modules/linear_model.html#logistic-regression\n",
      "  n_iter_i = _check_optimize_result(\n"
     ]
    },
    {
     "name": "stdout",
     "output_type": "stream",
     "text": [
      "r2 score: -0.03443200131465818\n",
      "percent of correct lines:  0.654228855721393\n",
      "\n",
      "i:  3\n"
     ]
    },
    {
     "name": "stderr",
     "output_type": "stream",
     "text": [
      "C:\\Users\\tal\\anaconda3\\lib\\site-packages\\sklearn\\linear_model\\_logistic.py:763: ConvergenceWarning: lbfgs failed to converge (status=1):\n",
      "STOP: TOTAL NO. of ITERATIONS REACHED LIMIT.\n",
      "\n",
      "Increase the number of iterations (max_iter) or scale the data as shown in:\n",
      "    https://scikit-learn.org/stable/modules/preprocessing.html\n",
      "Please also refer to the documentation for alternative solver options:\n",
      "    https://scikit-learn.org/stable/modules/linear_model.html#logistic-regression\n",
      "  n_iter_i = _check_optimize_result(\n",
      "C:\\Users\\tal\\anaconda3\\lib\\site-packages\\sklearn\\linear_model\\_logistic.py:763: ConvergenceWarning: lbfgs failed to converge (status=1):\n",
      "STOP: TOTAL NO. of ITERATIONS REACHED LIMIT.\n",
      "\n",
      "Increase the number of iterations (max_iter) or scale the data as shown in:\n",
      "    https://scikit-learn.org/stable/modules/preprocessing.html\n",
      "Please also refer to the documentation for alternative solver options:\n",
      "    https://scikit-learn.org/stable/modules/linear_model.html#logistic-regression\n",
      "  n_iter_i = _check_optimize_result(\n"
     ]
    },
    {
     "name": "stdout",
     "output_type": "stream",
     "text": [
      "r2 score: -0.05835760200093931\n",
      "percent of correct lines:  0.6285240464344942\n",
      "\n",
      "i:  4\n",
      "r2 score: -0.06777158868069799\n",
      "percent of correct lines:  0.6218905472636815\n",
      "\n",
      "i:  5\n",
      "r2 score: -0.05532017135819456\n",
      "percent of correct lines:  0.6298507462686567\n",
      "\n",
      "i:  6\n"
     ]
    },
    {
     "name": "stderr",
     "output_type": "stream",
     "text": [
      "C:\\Users\\tal\\anaconda3\\lib\\site-packages\\sklearn\\linear_model\\_logistic.py:763: ConvergenceWarning: lbfgs failed to converge (status=1):\n",
      "STOP: TOTAL NO. of ITERATIONS REACHED LIMIT.\n",
      "\n",
      "Increase the number of iterations (max_iter) or scale the data as shown in:\n",
      "    https://scikit-learn.org/stable/modules/preprocessing.html\n",
      "Please also refer to the documentation for alternative solver options:\n",
      "    https://scikit-learn.org/stable/modules/linear_model.html#logistic-regression\n",
      "  n_iter_i = _check_optimize_result(\n",
      "C:\\Users\\tal\\anaconda3\\lib\\site-packages\\sklearn\\linear_model\\_logistic.py:763: ConvergenceWarning: lbfgs failed to converge (status=1):\n",
      "STOP: TOTAL NO. of ITERATIONS REACHED LIMIT.\n",
      "\n",
      "Increase the number of iterations (max_iter) or scale the data as shown in:\n",
      "    https://scikit-learn.org/stable/modules/preprocessing.html\n",
      "Please also refer to the documentation for alternative solver options:\n",
      "    https://scikit-learn.org/stable/modules/linear_model.html#logistic-regression\n",
      "  n_iter_i = _check_optimize_result(\n",
      "C:\\Users\\tal\\anaconda3\\lib\\site-packages\\sklearn\\linear_model\\_logistic.py:763: ConvergenceWarning: lbfgs failed to converge (status=1):\n",
      "STOP: TOTAL NO. of ITERATIONS REACHED LIMIT.\n",
      "\n",
      "Increase the number of iterations (max_iter) or scale the data as shown in:\n",
      "    https://scikit-learn.org/stable/modules/preprocessing.html\n",
      "Please also refer to the documentation for alternative solver options:\n",
      "    https://scikit-learn.org/stable/modules/linear_model.html#logistic-regression\n",
      "  n_iter_i = _check_optimize_result(\n"
     ]
    },
    {
     "name": "stdout",
     "output_type": "stream",
     "text": [
      "r2 score: -0.14731660879963937\n",
      "percent of correct lines:  0.5912106135986733\n",
      "\n",
      "i:  7\n",
      "r2 score: -0.2941038997057106\n",
      "percent of correct lines:  0.5678749111584932\n",
      "\n",
      "i:  8\n",
      "r2 score: -0.2396416599206057\n",
      "percent of correct lines:  0.5907960199004975\n",
      "\n",
      "i:  9\n",
      "r2 score: -0.17305868893009846\n",
      "percent of correct lines:  0.5776672194582643\n",
      "\n"
     ]
    },
    {
     "name": "stderr",
     "output_type": "stream",
     "text": [
      "C:\\Users\\tal\\anaconda3\\lib\\site-packages\\sklearn\\linear_model\\_logistic.py:763: ConvergenceWarning: lbfgs failed to converge (status=1):\n",
      "STOP: TOTAL NO. of ITERATIONS REACHED LIMIT.\n",
      "\n",
      "Increase the number of iterations (max_iter) or scale the data as shown in:\n",
      "    https://scikit-learn.org/stable/modules/preprocessing.html\n",
      "Please also refer to the documentation for alternative solver options:\n",
      "    https://scikit-learn.org/stable/modules/linear_model.html#logistic-regression\n",
      "  n_iter_i = _check_optimize_result(\n",
      "C:\\Users\\tal\\anaconda3\\lib\\site-packages\\sklearn\\linear_model\\_logistic.py:763: ConvergenceWarning: lbfgs failed to converge (status=1):\n",
      "STOP: TOTAL NO. of ITERATIONS REACHED LIMIT.\n",
      "\n",
      "Increase the number of iterations (max_iter) or scale the data as shown in:\n",
      "    https://scikit-learn.org/stable/modules/preprocessing.html\n",
      "Please also refer to the documentation for alternative solver options:\n",
      "    https://scikit-learn.org/stable/modules/linear_model.html#logistic-regression\n",
      "  n_iter_i = _check_optimize_result(\n"
     ]
    }
   ],
   "source": [
    "#linear regression\n",
    "\n",
    "cols = ['artworks', 'follows', \n",
    "        'videos',\n",
    "        'is_multiplatform', 'genre','platformxis_multiplatform','followsxvideos'] #relevant cols for best score\n",
    "X = igdb_old[cols].values.reshape(igdb_old[cols].shape[0],len(cols))\n",
    "y = igdb_old['total_rating']\n",
    "\n",
    "for i in range(1,10):#used for findingg best i\n",
    "    print('i: ',i)\n",
    "    X_train, X_test, y_train, y_test = train_test_split(X, y, test_size=i/10, random_state=10)\n",
    "    \n",
    "    \n",
    "    \n",
    "    lgr = LogisticRegression().fit(X_train, y_train)\n",
    "    y_pred=lgr.predict(X_test)\n",
    "    \n",
    "    print('r2 score:',r2_score(y_test,y_pred.flatten()))\n",
    "    resDF=pd.DataFrame({\"Actual\":y_test,\"Predicted\":y_pred})\n",
    "    r2 = resDF[np.abs(resDF['Actual']-resDF['Predicted']) <10]\n",
    "    print('percent of correct lines: ',len(r2)/len(resDF))\n",
    "    print()\n"
   ]
  },
  {
   "cell_type": "code",
   "execution_count": 5,
   "id": "ad13437e",
   "metadata": {},
   "outputs": [
    {
     "name": "stdout",
     "output_type": "stream",
     "text": [
      "percent of correct lines:  0.7263681592039801\n",
      "\n"
     ]
    },
    {
     "name": "stderr",
     "output_type": "stream",
     "text": [
      "C:\\Users\\tal\\anaconda3\\lib\\site-packages\\sklearn\\linear_model\\_logistic.py:763: ConvergenceWarning: lbfgs failed to converge (status=1):\n",
      "STOP: TOTAL NO. of ITERATIONS REACHED LIMIT.\n",
      "\n",
      "Increase the number of iterations (max_iter) or scale the data as shown in:\n",
      "    https://scikit-learn.org/stable/modules/preprocessing.html\n",
      "Please also refer to the documentation for alternative solver options:\n",
      "    https://scikit-learn.org/stable/modules/linear_model.html#logistic-regression\n",
      "  n_iter_i = _check_optimize_result(\n"
     ]
    }
   ],
   "source": [
    "# found best i to be 0.1\n",
    "cols = ['artworks', 'follows',\n",
    "        'videos',\n",
    "        'is_multiplatform', 'genre','platformxis_multiplatform','followsxvideos']\n",
    "X = igdb_old[cols].values.reshape(igdb_old[cols].shape[0],len(cols))\n",
    "y = igdb_old['total_rating']\n",
    "\n",
    "X_train, X_test, y_train, y_test = train_test_split(X, y, test_size=0.1, random_state=10)\n",
    "\n",
    "\n",
    "\n",
    "lgr = LogisticRegression().fit(X_train, y_train)\n",
    "y_pred=lgr.predict(X_test)\n",
    "\n",
    "resDF=pd.DataFrame({\"Actual\":y_test,\"Predicted\":y_pred})\n",
    "r2 = resDF[np.abs(resDF['Actual']-resDF['Predicted']) <10] # lines which are within 10 range of the original score are good\n",
    "print('percent of correct lines: ',len(r2)/len(resDF))\n",
    "print()\n",
    "\n",
    "\n"
   ]
  },
  {
   "cell_type": "code",
   "execution_count": 6,
   "id": "7fd416d2",
   "metadata": {},
   "outputs": [],
   "source": [
    "cols = ['artworks', 'follows',\n",
    "        'videos',\n",
    "        'is_multiplatform', 'genre','platformxis_multiplatform','followsxvideos']\n",
    "#now we run the trained model on the new game, to find out their projected popularity\n",
    "X_new = igdb_new[cols].values.reshape(igdb_new[cols].shape[0],len(cols))\n",
    "y_new_actual = igdb_new['total_rating']\n",
    "\n",
    "y_new_pred=lgr.predict(X_new)\n",
    "\n",
    "linearDF=pd.DataFrame({\"Game\":igdb_new['name'],\"Projected_rating\":y_new_pred}) #saving into df\n"
   ]
  },
  {
   "cell_type": "markdown",
   "id": "b87f1feb",
   "metadata": {},
   "source": [
    "we could also categorize games into \"successful\" and \"unsuccessful\" based on their rating, we simply place 1 if their rating are above 70 to indicate a successful game, and 0 otherwise to indicate a unsuccessful game"
   ]
  },
  {
   "cell_type": "code",
   "execution_count": 7,
   "id": "117f9c2a",
   "metadata": {},
   "outputs": [],
   "source": [
    "igdb_old_categorical = igdb_old.copy()\n",
    "igdb_old_categorical\n",
    "for index in igdb_old_categorical.index:\n",
    "    if igdb_old_categorical.at[index,'total_rating'] >= 70 :\n",
    "        igdb_old_categorical.at[index,'total_rating'] = 1\n",
    "    else:\n",
    "        igdb_old_categorical.at[index,'total_rating'] = 0"
   ]
  },
  {
   "cell_type": "code",
   "execution_count": 8,
   "id": "5f6622e1",
   "metadata": {},
   "outputs": [],
   "source": [
    "igdb_new_categorical = igdb_new.copy()\n",
    "igdb_new_categorical\n",
    "for index in igdb_new_categorical.index:\n",
    "    if igdb_new_categorical.at[index,'total_rating'] >= 70 :\n",
    "        igdb_new_categorical.at[index,'total_rating'] = 1\n",
    "    else:\n",
    "        igdb_new_categorical.at[index,'total_rating'] = 0"
   ]
  },
  {
   "cell_type": "code",
   "execution_count": 9,
   "id": "87bf195f",
   "metadata": {},
   "outputs": [
    {
     "name": "stdout",
     "output_type": "stream",
     "text": [
      "percent of correct lines:  0.7263681592039801\n",
      "\n",
      "accuracy is: 0.7263681592039801\n",
      "precision is: 0.7263681592039801\n",
      "recall is: 0.7263681592039801\n",
      "f1 is: 0.7263681592039801\n"
     ]
    },
    {
     "name": "stderr",
     "output_type": "stream",
     "text": [
      "C:\\Users\\tal\\anaconda3\\lib\\site-packages\\sklearn\\metrics\\_classification.py:1295: UserWarning: Note that pos_label (set to 'positive') is ignored when average != 'binary' (got 'micro'). You may use labels=[pos_label] to specify a single positive class.\n",
      "  warnings.warn(\"Note that pos_label (set to %r) is ignored when \"\n",
      "C:\\Users\\tal\\anaconda3\\lib\\site-packages\\sklearn\\metrics\\_classification.py:1295: UserWarning: Note that pos_label (set to 'positive') is ignored when average != 'binary' (got 'micro'). You may use labels=[pos_label] to specify a single positive class.\n",
      "  warnings.warn(\"Note that pos_label (set to %r) is ignored when \"\n",
      "C:\\Users\\tal\\anaconda3\\lib\\site-packages\\sklearn\\metrics\\_classification.py:1295: UserWarning: Note that pos_label (set to 'positive') is ignored when average != 'binary' (got 'micro'). You may use labels=[pos_label] to specify a single positive class.\n",
      "  warnings.warn(\"Note that pos_label (set to %r) is ignored when \"\n"
     ]
    }
   ],
   "source": [
    "#now we can do logistic regression!\n",
    "\n",
    "cols = ['artworks', 'follows','is_famous_company',\n",
    "        'videos',\n",
    "        'is_multiplatform', 'genre','followsxvideos']\n",
    "X = igdb_old_categorical[cols].values.reshape(igdb_old_categorical[cols].shape[0],len(cols))\n",
    "y = igdb_old_categorical['total_rating']\n",
    "#we found the test size in a similar way to how we found it earlier..\n",
    "X_train, X_test, y_train, y_test = train_test_split(X, y, test_size=0.2,random_state=23)\n",
    "\n",
    "\n",
    "lrm=linear_model.LogisticRegression()\n",
    "lrm.fit(X_train,y_train)\n",
    "\n",
    "y_pred = lrm.predict(X_test)\n",
    "resDF=pd.DataFrame({\"Actual\":y_test,\"Predicted\":y_pred})\n",
    "\n",
    "r2 = resDF[resDF['Actual'] == resDF['Predicted']]\n",
    "print('percent of correct lines: ',len(r2)/len(resDF))\n",
    "print()\n",
    "print(\"accuracy is:\",metrics.accuracy_score(y_test, y_pred))\n",
    "print(\"precision is:\",metrics.precision_score(y_test, y_pred,\n",
    "                                             pos_label='positive',\n",
    "                                             average='micro'))\n",
    "print(\"recall is:\",metrics.recall_score(y_test, y_pred,\n",
    "                                             pos_label='positive',\n",
    "                                             average='micro'))\n",
    "print(\"f1 is:\",metrics.f1_score(y_test, y_pred,\n",
    "                                             pos_label='positive',\n",
    "                                             average='micro'))"
   ]
  },
  {
   "cell_type": "markdown",
   "id": "ae231def",
   "metadata": {},
   "source": [
    "this model is very accurate, with a stable and high score on multiple evaluation metrics"
   ]
  },
  {
   "cell_type": "markdown",
   "id": "2ad110fc",
   "metadata": {},
   "source": [
    "simlarly to last times, we run it on the new games, to project their success"
   ]
  },
  {
   "cell_type": "code",
   "execution_count": 10,
   "id": "c2d29db1",
   "metadata": {},
   "outputs": [],
   "source": [
    "cols = ['artworks', 'follows','is_famous_company',\n",
    "        'videos',\n",
    "        'is_multiplatform', 'genre','followsxvideos']\n",
    "\n",
    "X_new = igdb_new_categorical[cols].values.reshape(igdb_new_categorical[cols].shape[0],len(cols))\n",
    "y_new_actual = igdb_new_categorical['total_rating']\n",
    "\n",
    "y_new_pred=lrm.predict(X_new)\n",
    "\n",
    "logicDF=pd.DataFrame({\"Game\":igdb_new_categorical['name'],\"is_successful\":y_new_pred})# remember, \"is sucessful\" is a speculation\n"
   ]
  },
  {
   "cell_type": "markdown",
   "id": "9819c788",
   "metadata": {},
   "source": [
    "we will now use knn, for this we also used GridsearchCV and crossvalue table to find the best K value"
   ]
  },
  {
   "cell_type": "code",
   "execution_count": 11,
   "id": "efec59fd",
   "metadata": {},
   "outputs": [
    {
     "name": "stdout",
     "output_type": "stream",
     "text": [
      "18\n",
      "[0.60714286 0.51785714 0.64285714 0.74107143 0.66071429 0.70535714\n",
      " 0.58928571 0.74107143 0.625      0.75       0.67857143 0.65765766\n",
      " 0.7027027  0.7027027  0.71171171 0.64864865 0.69369369 0.67567568]\n"
     ]
    }
   ],
   "source": [
    "cols = ['artworks', 'follows',\n",
    "        'videos',\n",
    "        'is_multiplatform', 'genre','followsxvideos']\n",
    "\n",
    "X = igdb_old_categorical[cols].values.reshape(igdb_old_categorical[cols].shape[0],len(cols))\n",
    "y = igdb_old_categorical['total_rating']\n",
    "\n",
    "X_train, X_test, y_train, y_test = train_test_split(X, y, test_size=0.1, random_state=10)\n",
    "\n",
    "\n",
    "parameters = {'n_neighbors':range(1,50,2) }\n",
    "knn = KNeighborsClassifier()\n",
    "clf = GridSearchCV(knn, parameters,scoring=make_scorer(metrics.accuracy_score, greater_is_better=True)) #gridsearch\n",
    "clf.fit(X, y)\n",
    "bestk = clf.best_params_['n_neighbors']\n",
    "\n",
    "clf = KNeighborsClassifier(n_neighbors=bestk)\n",
    "\n",
    "scores = cross_val_score(clf, X, y, cv=10)\n",
    "scores_list=[cross_val_score(clf, X, y, cv=flds).mean() for flds in range(3,26)] #inserting result into cvs\n",
    "bestk = np.argmax(scores_list)+3\n",
    "\n",
    "print(bestk) #best k \n",
    "print(cross_val_score(clf, X, y, cv=bestk))"
   ]
  },
  {
   "cell_type": "code",
   "execution_count": 12,
   "id": "d4d29b9e",
   "metadata": {},
   "outputs": [
    {
     "name": "stdout",
     "output_type": "stream",
     "text": [
      "percent of correct lines:  0.7611940298507462\n"
     ]
    }
   ],
   "source": [
    "#inputting it into a knn clasifier\n",
    "X_train, X_test, y_train, y_test = train_test_split(X, y, test_size=0.1, random_state=15)\n",
    "knn = KNeighborsClassifier(n_neighbors=bestk)\n",
    "knn.fit(X_train, y_train)\n",
    "y_pred = knn.predict(X_test)\n",
    "resDF=pd.DataFrame({\"Actual\":y_test,\"Predicted\":y_pred})\n",
    "r2 = resDF[resDF['Actual'] == resDF['Predicted']]\n",
    "print('percent of correct lines: ',len(r2)/len(resDF)) #checking how it measures up"
   ]
  },
  {
   "cell_type": "markdown",
   "id": "2aaefa21",
   "metadata": {},
   "source": [
    "our highest score yet! now we use it to evaluate new games projected popularity"
   ]
  },
  {
   "cell_type": "code",
   "execution_count": 13,
   "id": "1fda8d47",
   "metadata": {},
   "outputs": [],
   "source": [
    "cols = ['artworks', 'follows',\n",
    "        'videos',\n",
    "        'is_multiplatform', 'genre','followsxvideos']\n",
    "#all same as before\n",
    "X_new = igdb_new_categorical[cols].values.reshape(igdb_new_categorical[cols].shape[0],len(cols))\n",
    "y_new_actual = igdb_new_categorical['total_rating']\n",
    "\n",
    "y_new_pred=knn.predict(X_new)\n",
    "\n",
    "knnDF=pd.DataFrame({\"Game\":igdb_new_categorical['name'],\"is_successful\":y_new_pred})\n"
   ]
  },
  {
   "cell_type": "code",
   "execution_count": 14,
   "id": "24cf6747",
   "metadata": {},
   "outputs": [],
   "source": [
    "linearDF.to_csv('linear_projection.csv',index = False)"
   ]
  },
  {
   "cell_type": "code",
   "execution_count": 15,
   "id": "b86ba2b1",
   "metadata": {},
   "outputs": [
    {
     "data": {
      "text/html": [
       "<div>\n",
       "<style scoped>\n",
       "    .dataframe tbody tr th:only-of-type {\n",
       "        vertical-align: middle;\n",
       "    }\n",
       "\n",
       "    .dataframe tbody tr th {\n",
       "        vertical-align: top;\n",
       "    }\n",
       "\n",
       "    .dataframe thead th {\n",
       "        text-align: right;\n",
       "    }\n",
       "</style>\n",
       "<table border=\"1\" class=\"dataframe\">\n",
       "  <thead>\n",
       "    <tr style=\"text-align: right;\">\n",
       "      <th></th>\n",
       "      <th>Game</th>\n",
       "      <th>Projected_rating</th>\n",
       "    </tr>\n",
       "  </thead>\n",
       "  <tbody>\n",
       "    <tr>\n",
       "      <th>0</th>\n",
       "      <td>fallout: new vegas</td>\n",
       "      <td>83</td>\n",
       "    </tr>\n",
       "    <tr>\n",
       "      <th>1</th>\n",
       "      <td>bioshock 2</td>\n",
       "      <td>92</td>\n",
       "    </tr>\n",
       "    <tr>\n",
       "      <th>2</th>\n",
       "      <td>mafia ii</td>\n",
       "      <td>83</td>\n",
       "    </tr>\n",
       "    <tr>\n",
       "      <th>3</th>\n",
       "      <td>tales of monkey island</td>\n",
       "      <td>79</td>\n",
       "    </tr>\n",
       "    <tr>\n",
       "      <th>4</th>\n",
       "      <td>the secret of monkey island: special edition</td>\n",
       "      <td>79</td>\n",
       "    </tr>\n",
       "    <tr>\n",
       "      <th>...</th>\n",
       "      <td>...</td>\n",
       "      <td>...</td>\n",
       "    </tr>\n",
       "    <tr>\n",
       "      <th>2495</th>\n",
       "      <td>stardew valley</td>\n",
       "      <td>85</td>\n",
       "    </tr>\n",
       "    <tr>\n",
       "      <th>2496</th>\n",
       "      <td>ashen</td>\n",
       "      <td>79</td>\n",
       "    </tr>\n",
       "    <tr>\n",
       "      <th>2497</th>\n",
       "      <td>move or die</td>\n",
       "      <td>70</td>\n",
       "    </tr>\n",
       "    <tr>\n",
       "      <th>2498</th>\n",
       "      <td>darkwood</td>\n",
       "      <td>69</td>\n",
       "    </tr>\n",
       "    <tr>\n",
       "      <th>2499</th>\n",
       "      <td>murder miners</td>\n",
       "      <td>70</td>\n",
       "    </tr>\n",
       "  </tbody>\n",
       "</table>\n",
       "<p>1625 rows × 2 columns</p>\n",
       "</div>"
      ],
      "text/plain": [
       "                                              Game  Projected_rating\n",
       "0                               fallout: new vegas                83\n",
       "1                                       bioshock 2                92\n",
       "2                                         mafia ii                83\n",
       "3                           tales of monkey island                79\n",
       "4     the secret of monkey island: special edition                79\n",
       "...                                            ...               ...\n",
       "2495                                stardew valley                85\n",
       "2496                                         ashen                79\n",
       "2497                                   move or die                70\n",
       "2498                                      darkwood                69\n",
       "2499                                 murder miners                70\n",
       "\n",
       "[1625 rows x 2 columns]"
      ]
     },
     "execution_count": 15,
     "metadata": {},
     "output_type": "execute_result"
    }
   ],
   "source": [
    "linearDF"
   ]
  },
  {
   "cell_type": "code",
   "execution_count": 16,
   "id": "c8135c90",
   "metadata": {},
   "outputs": [],
   "source": [
    "logicDF.to_csv('logical_projection.csv',index = False)"
   ]
  },
  {
   "cell_type": "code",
   "execution_count": 17,
   "id": "0128928f",
   "metadata": {},
   "outputs": [
    {
     "data": {
      "text/html": [
       "<div>\n",
       "<style scoped>\n",
       "    .dataframe tbody tr th:only-of-type {\n",
       "        vertical-align: middle;\n",
       "    }\n",
       "\n",
       "    .dataframe tbody tr th {\n",
       "        vertical-align: top;\n",
       "    }\n",
       "\n",
       "    .dataframe thead th {\n",
       "        text-align: right;\n",
       "    }\n",
       "</style>\n",
       "<table border=\"1\" class=\"dataframe\">\n",
       "  <thead>\n",
       "    <tr style=\"text-align: right;\">\n",
       "      <th></th>\n",
       "      <th>Game</th>\n",
       "      <th>is_successful</th>\n",
       "    </tr>\n",
       "  </thead>\n",
       "  <tbody>\n",
       "    <tr>\n",
       "      <th>0</th>\n",
       "      <td>fallout: new vegas</td>\n",
       "      <td>1</td>\n",
       "    </tr>\n",
       "    <tr>\n",
       "      <th>1</th>\n",
       "      <td>bioshock 2</td>\n",
       "      <td>1</td>\n",
       "    </tr>\n",
       "    <tr>\n",
       "      <th>2</th>\n",
       "      <td>mafia ii</td>\n",
       "      <td>1</td>\n",
       "    </tr>\n",
       "    <tr>\n",
       "      <th>3</th>\n",
       "      <td>tales of monkey island</td>\n",
       "      <td>1</td>\n",
       "    </tr>\n",
       "    <tr>\n",
       "      <th>4</th>\n",
       "      <td>the secret of monkey island: special edition</td>\n",
       "      <td>1</td>\n",
       "    </tr>\n",
       "    <tr>\n",
       "      <th>...</th>\n",
       "      <td>...</td>\n",
       "      <td>...</td>\n",
       "    </tr>\n",
       "    <tr>\n",
       "      <th>2495</th>\n",
       "      <td>stardew valley</td>\n",
       "      <td>1</td>\n",
       "    </tr>\n",
       "    <tr>\n",
       "      <th>2496</th>\n",
       "      <td>ashen</td>\n",
       "      <td>1</td>\n",
       "    </tr>\n",
       "    <tr>\n",
       "      <th>2497</th>\n",
       "      <td>move or die</td>\n",
       "      <td>1</td>\n",
       "    </tr>\n",
       "    <tr>\n",
       "      <th>2498</th>\n",
       "      <td>darkwood</td>\n",
       "      <td>0</td>\n",
       "    </tr>\n",
       "    <tr>\n",
       "      <th>2499</th>\n",
       "      <td>murder miners</td>\n",
       "      <td>1</td>\n",
       "    </tr>\n",
       "  </tbody>\n",
       "</table>\n",
       "<p>1625 rows × 2 columns</p>\n",
       "</div>"
      ],
      "text/plain": [
       "                                              Game  is_successful\n",
       "0                               fallout: new vegas              1\n",
       "1                                       bioshock 2              1\n",
       "2                                         mafia ii              1\n",
       "3                           tales of monkey island              1\n",
       "4     the secret of monkey island: special edition              1\n",
       "...                                            ...            ...\n",
       "2495                                stardew valley              1\n",
       "2496                                         ashen              1\n",
       "2497                                   move or die              1\n",
       "2498                                      darkwood              0\n",
       "2499                                 murder miners              1\n",
       "\n",
       "[1625 rows x 2 columns]"
      ]
     },
     "execution_count": 17,
     "metadata": {},
     "output_type": "execute_result"
    }
   ],
   "source": [
    "logicDF"
   ]
  },
  {
   "cell_type": "code",
   "execution_count": 18,
   "id": "f93d0766",
   "metadata": {},
   "outputs": [],
   "source": [
    "knnDF.to_csv('KNN_projection.csv',index = False)"
   ]
  },
  {
   "cell_type": "code",
   "execution_count": 19,
   "id": "a3648840",
   "metadata": {},
   "outputs": [
    {
     "data": {
      "text/html": [
       "<div>\n",
       "<style scoped>\n",
       "    .dataframe tbody tr th:only-of-type {\n",
       "        vertical-align: middle;\n",
       "    }\n",
       "\n",
       "    .dataframe tbody tr th {\n",
       "        vertical-align: top;\n",
       "    }\n",
       "\n",
       "    .dataframe thead th {\n",
       "        text-align: right;\n",
       "    }\n",
       "</style>\n",
       "<table border=\"1\" class=\"dataframe\">\n",
       "  <thead>\n",
       "    <tr style=\"text-align: right;\">\n",
       "      <th></th>\n",
       "      <th>Game</th>\n",
       "      <th>is_successful</th>\n",
       "    </tr>\n",
       "  </thead>\n",
       "  <tbody>\n",
       "    <tr>\n",
       "      <th>0</th>\n",
       "      <td>fallout: new vegas</td>\n",
       "      <td>1</td>\n",
       "    </tr>\n",
       "    <tr>\n",
       "      <th>1</th>\n",
       "      <td>bioshock 2</td>\n",
       "      <td>1</td>\n",
       "    </tr>\n",
       "    <tr>\n",
       "      <th>2</th>\n",
       "      <td>mafia ii</td>\n",
       "      <td>1</td>\n",
       "    </tr>\n",
       "    <tr>\n",
       "      <th>3</th>\n",
       "      <td>tales of monkey island</td>\n",
       "      <td>1</td>\n",
       "    </tr>\n",
       "    <tr>\n",
       "      <th>4</th>\n",
       "      <td>the secret of monkey island: special edition</td>\n",
       "      <td>1</td>\n",
       "    </tr>\n",
       "    <tr>\n",
       "      <th>...</th>\n",
       "      <td>...</td>\n",
       "      <td>...</td>\n",
       "    </tr>\n",
       "    <tr>\n",
       "      <th>2495</th>\n",
       "      <td>stardew valley</td>\n",
       "      <td>1</td>\n",
       "    </tr>\n",
       "    <tr>\n",
       "      <th>2496</th>\n",
       "      <td>ashen</td>\n",
       "      <td>1</td>\n",
       "    </tr>\n",
       "    <tr>\n",
       "      <th>2497</th>\n",
       "      <td>move or die</td>\n",
       "      <td>0</td>\n",
       "    </tr>\n",
       "    <tr>\n",
       "      <th>2498</th>\n",
       "      <td>darkwood</td>\n",
       "      <td>1</td>\n",
       "    </tr>\n",
       "    <tr>\n",
       "      <th>2499</th>\n",
       "      <td>murder miners</td>\n",
       "      <td>1</td>\n",
       "    </tr>\n",
       "  </tbody>\n",
       "</table>\n",
       "<p>1625 rows × 2 columns</p>\n",
       "</div>"
      ],
      "text/plain": [
       "                                              Game  is_successful\n",
       "0                               fallout: new vegas              1\n",
       "1                                       bioshock 2              1\n",
       "2                                         mafia ii              1\n",
       "3                           tales of monkey island              1\n",
       "4     the secret of monkey island: special edition              1\n",
       "...                                            ...            ...\n",
       "2495                                stardew valley              1\n",
       "2496                                         ashen              1\n",
       "2497                                   move or die              0\n",
       "2498                                      darkwood              1\n",
       "2499                                 murder miners              1\n",
       "\n",
       "[1625 rows x 2 columns]"
      ]
     },
     "execution_count": 19,
     "metadata": {},
     "output_type": "execute_result"
    }
   ],
   "source": [
    "knnDF"
   ]
  }
 ],
 "metadata": {
  "kernelspec": {
   "display_name": "Python 3",
   "language": "python",
   "name": "python3"
  },
  "language_info": {
   "codemirror_mode": {
    "name": "ipython",
    "version": 3
   },
   "file_extension": ".py",
   "mimetype": "text/x-python",
   "name": "python",
   "nbconvert_exporter": "python",
   "pygments_lexer": "ipython3",
   "version": "3.8.8"
  }
 },
 "nbformat": 4,
 "nbformat_minor": 5
}
